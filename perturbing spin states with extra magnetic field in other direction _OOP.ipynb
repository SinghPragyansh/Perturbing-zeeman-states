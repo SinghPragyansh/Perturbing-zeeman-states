{
 "cells": [
  {
   "cell_type": "markdown",
   "id": "d29408aa",
   "metadata": {},
   "source": [
    "                   Perturbation for spins in magnetic field"
   ]
  },
  {
   "cell_type": "markdown",
   "id": "9dbc482b",
   "metadata": {},
   "source": [
    "1. We already have the zeeman interaction cal\n",
    "2. H0 = (g_e*bohr_mag/h_cut) * B * S\n",
    "#### Taking z direction as the direction of applied magnetic field\n",
    "3. for gs = 2 and spins present in their eigen states, uo or down\n",
    "4. E_plus = + bohr_mag * Bz;      and     E_minus = - bohr_mag * Bz;"
   ]
  },
  {
   "cell_type": "markdown",
   "id": "ee6bf279",
   "metadata": {},
   "source": [
    "#### Let's add the perturbation through magnetic field\n",
    "1. Suppose we are in up state, then add small m.f. Bx, s.t. Bx << Bz ;\n",
    "2. So what will be the change in energy of the eigen states ?\n",
    "3. perturbation potential: V1 = (g_e*bohr_mag/h_cut) * Bx * Sx\n",
    "4. Note that: only up and down are the spin eigen_states that we would need in 2nd order corr"
   ]
  },
  {
   "cell_type": "code",
   "execution_count": 2,
   "id": "6265c673",
   "metadata": {},
   "outputs": [],
   "source": [
    "import numpy as np"
   ]
  },
  {
   "cell_type": "code",
   "execution_count": 88,
   "id": "32dbf30c",
   "metadata": {},
   "outputs": [],
   "source": [
    "class spin_perturbation:\n",
    "    def __init__(self,Bz, Bx):\n",
    "        self.Bz = Bz\n",
    "        self.Bx = Bx\n",
    "        self.h_cut = 1\n",
    "        self.m_e = 1\n",
    "        self.e_charge = 1\n",
    "        self.g_e = 2.002319\n",
    "        self.bohr_magneton = self.e_charge*self.h_cut/(2*self.m_e)\n",
    "        self.gyro_con = (self.g_e/self.h_cut)*self.bohr_magneton\n",
    "        \n",
    "    def spin_function(self):\n",
    "        spin_up = np.array([[1], [0]])   # +z\n",
    "        spin_down = np.array([[0],[1]])  # -z\n",
    "        spin_right = np.array([[1],[1]])   # +x\n",
    "        spin_left = np.array([[1], [-1]])  # -x\n",
    "        spin_out = np.array([[1],[1j]])    # +y\n",
    "        spin_in= np.array([[1], [-1j]])    #-y\n",
    "\n",
    "        spin_dict = {\"spin_up\": spin_up, \"spin_down\":spin_down, \"spin_right\":spin_right,\n",
    "                    \"spin_left\":spin_left, \"spin_out\":spin_out, \"spin_in\":spin_in}\n",
    "\n",
    "        return spin_dict\n",
    "    \n",
    "    def spin_operators(self):\n",
    "        sz = np.array([[1/2, 0], [0, -1/2]])\n",
    "        s_plus = np.array([[0, 1/2], [0, 0]])\n",
    "        s_minus = np.array([[0, 0], [1/2, 0]])\n",
    "        sx = np.array([[0 ,1/2], [1/2, 0]])\n",
    "        sy = np.array([[0, -1j/2], [1j/2, 0]])\n",
    "\n",
    "        operate = {\"sz\":sz, \"s_plus\":s_plus, \"s_minus\":s_minus, \"sx\":sx, \"sy\":sy}\n",
    "\n",
    "        return operate\n",
    "    \n",
    "    def potential(self):\n",
    "        operate = self.spin_operators()\n",
    "        sz = operate[\"sz\"]\n",
    "        sx = operate[\"sx\"]\n",
    "        V0 = (self.g_e*self.bohr_magneton/self.h_cut)*self.Bz*sz\n",
    "        V1 = (self.g_e*self.bohr_magneton/self.h_cut)*self.Bx*sx\n",
    "\n",
    "        pot = {\"unperturbed\":V0, \"perturbed\":V1}\n",
    "\n",
    "        return pot\n",
    " \n",
    "    def unperturbed_ene_cal(self, prepared_state):\n",
    "        spin_states = self.spin_function()\n",
    "        spin_up = spin_states[\"spin_up\"]\n",
    "        spin_down = spin_states[\"spin_down\"]\n",
    "        operate = self.spin_operators()\n",
    "        sz = operate[\"sz\"]\n",
    "\n",
    "        e_up = spin_up.T @ sz @ spin_up\n",
    "        e_down = spin_down.T @ sz @ spin_down\n",
    "\n",
    "        zeeman_energies = {\"E0_up\": e_up, \"E0_down\":e_down}\n",
    "\n",
    "        # for the given state\n",
    "        e = prepared_state.T @ sz @ prepared_state\n",
    "    \n",
    "        return np.squeeze(e)\n",
    "    \n",
    "    def first_order_correction(self, spin_state):\n",
    "        pot = self.potential()\n",
    "        V1 = pot [\"perturbed\"]\n",
    "        E_1dash = spin_state.T @ V1 @ spin_state\n",
    "\n",
    "        return np.squeeze(E_1dash)\n",
    "    \n",
    "    def second_order_correction(self, prepared_state):\n",
    "        E_2dash = 0\n",
    "        spin_state_list = self.spin_function()\n",
    "        eigen_states = [spin_state_list[\"spin_up\"], spin_state_list[\"spin_down\"]]\n",
    "        pot = self.potential()\n",
    "        V1 = pot[\"perturbed\"]\n",
    "        \n",
    "        for other_state in eigen_states:\n",
    "            if np.array_equal(other_state, prepared_state):\n",
    "                E_2dash += 0\n",
    "            else:\n",
    "                eig_ene_diff = self.unperturbed_ene_cal(prepared_state) - self.unperturbed_ene_cal(other_state)\n",
    "                e = np.square( prepared_state.T @ V1 @ other_state ) / eig_ene_diff\n",
    "                E_2dash += e\n",
    "        \n",
    "        return np.squeeze(E_2dash)"
   ]
  },
  {
   "cell_type": "code",
   "execution_count": 100,
   "id": "ca8d7848",
   "metadata": {},
   "outputs": [],
   "source": [
    "Bz = 2\n",
    "Bx = 0.5\n",
    "method = spin_perturbation(Bz, Bx)"
   ]
  },
  {
   "cell_type": "code",
   "execution_count": 101,
   "id": "560b97d2",
   "metadata": {},
   "outputs": [],
   "source": [
    "spin_states = method.spin_function()\n",
    "prepared_state = spin_states[\"spin_up\"]"
   ]
  },
  {
   "cell_type": "code",
   "execution_count": 102,
   "id": "ea4400bc",
   "metadata": {},
   "outputs": [],
   "source": [
    "E0 = method.unperturbed_ene_cal(prepared_state)\n",
    "E_1dash = method.first_order_correction(prepared_state)\n",
    "E_2dash = method.second_order_correction(prepared_state)\n",
    "E = E0 + E_1dash + E_2dash"
   ]
  },
  {
   "cell_type": "code",
   "execution_count": 103,
   "id": "96cf1d34",
   "metadata": {},
   "outputs": [
    {
     "name": "stdout",
     "output_type": "stream",
     "text": [
      "Unperturbed energy:0.5\n",
      "1st order correction to energy:0.0 \n",
      "2nd order correction:0.06264502152751562\n"
     ]
    }
   ],
   "source": [
    "print(f\"Unperturbed energy:{E0}\\n1st order correction to energy:{E_1dash} \\n2nd order correction:{E_2dash}\")"
   ]
  },
  {
   "cell_type": "code",
   "execution_count": null,
   "id": "f384da2c",
   "metadata": {},
   "outputs": [],
   "source": []
  }
 ],
 "metadata": {
  "kernelspec": {
   "display_name": "Python 3",
   "language": "python",
   "name": "python3"
  },
  "language_info": {
   "codemirror_mode": {
    "name": "ipython",
    "version": 3
   },
   "file_extension": ".py",
   "mimetype": "text/x-python",
   "name": "python",
   "nbconvert_exporter": "python",
   "pygments_lexer": "ipython3",
   "version": "3.8.8"
  }
 },
 "nbformat": 4,
 "nbformat_minor": 5
}
